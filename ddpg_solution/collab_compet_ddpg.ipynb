{
 "cells": [
  {
   "cell_type": "markdown",
   "metadata": {},
   "source": [
    "# Collaboration and Competition\n",
    "\n",
    "---\n",
    "\n",
    "In this notebook, you will learn how to use the Unity ML-Agents environment for the third project of the [Deep Reinforcement Learning Nanodegree](https://www.udacity.com/course/deep-reinforcement-learning-nanodegree--nd893) program.\n",
    "\n",
    "### 1. Start the Environment\n",
    "\n",
    "We begin by importing the necessary packages.  If the code cell below returns an error, please revisit the project instructions to double-check that you have installed [Unity ML-Agents](https://github.com/Unity-Technologies/ml-agents/blob/master/docs/Installation.md) and [NumPy](http://www.numpy.org/)."
   ]
  },
  {
   "cell_type": "code",
   "execution_count": 1,
   "metadata": {},
   "outputs": [],
   "source": [
    "from unityagents import UnityEnvironment\n",
    "import numpy as np\n",
    "import random\n",
    "import json\n",
    "import torch\n",
    "from collections import deque\n",
    "import matplotlib.pyplot as plt\n",
    "%matplotlib inline\n",
    "from ddpg_agent_cc import Agent\n",
    "\n",
    "import warnings\n",
    "warnings.filterwarnings('ignore')"
   ]
  },
  {
   "cell_type": "markdown",
   "metadata": {},
   "source": [
    "Next, we will start the environment!  **_Before running the code cell below_**, change the `file_name` parameter to match the location of the Unity environment that you downloaded.\n",
    "\n",
    "- **Mac**: `\"path/to/Tennis.app\"`\n",
    "- **Windows** (x86): `\"path/to/Tennis_Windows_x86/Tennis.exe\"`\n",
    "- **Windows** (x86_64): `\"path/to/Tennis_Windows_x86_64/Tennis.exe\"`\n",
    "- **Linux** (x86): `\"path/to/Tennis_Linux/Tennis.x86\"`\n",
    "- **Linux** (x86_64): `\"path/to/Tennis_Linux/Tennis.x86_64\"`\n",
    "- **Linux** (x86, headless): `\"path/to/Tennis_Linux_NoVis/Tennis.x86\"`\n",
    "- **Linux** (x86_64, headless): `\"path/to/Tennis_Linux_NoVis/Tennis.x86_64\"`\n",
    "\n",
    "For instance, if you are using a Mac, then you downloaded `Tennis.app`.  If this file is in the same folder as the notebook, then the line below should appear as follows:\n",
    "```\n",
    "env = UnityEnvironment(file_name=\"Tennis.app\")\n",
    "```"
   ]
  },
  {
   "cell_type": "code",
   "execution_count": 2,
   "metadata": {},
   "outputs": [
    {
     "name": "stderr",
     "output_type": "stream",
     "text": [
      "INFO:unityagents:\n",
      "'Academy' started successfully!\n",
      "Unity Academy name: Academy\n",
      "        Number of Brains: 1\n",
      "        Number of External Brains : 1\n",
      "        Lesson number : 0\n",
      "        Reset Parameters :\n",
      "\t\t\n",
      "Unity brain name: TennisBrain\n",
      "        Number of Visual Observations (per agent): 0\n",
      "        Vector Observation space type: continuous\n",
      "        Vector Observation space size (per agent): 8\n",
      "        Number of stacked Vector Observation: 3\n",
      "        Vector Action space type: continuous\n",
      "        Vector Action space size (per agent): 2\n",
      "        Vector Action descriptions: , \n"
     ]
    }
   ],
   "source": [
    "#env = UnityEnvironment(file_name=\"Tennis_Windows_x86_64/Tennis.exe\", seed=0)\n",
    "env = UnityEnvironment(file_name=\"Tennis_Windows_x86_64/Tennis.exe\", no_graphics=True, seed=0)"
   ]
  },
  {
   "cell_type": "markdown",
   "metadata": {},
   "source": [
    "Environments contain **_brains_** which are responsible for deciding the actions of their associated agents. Here we check for the first brain available, and set it as the default brain we will be controlling from Python."
   ]
  },
  {
   "cell_type": "code",
   "execution_count": 3,
   "metadata": {},
   "outputs": [],
   "source": [
    "# get the default brain\n",
    "brain_name = env.brain_names[0]\n",
    "brain = env.brains[brain_name]"
   ]
  },
  {
   "cell_type": "markdown",
   "metadata": {},
   "source": [
    "### 2. Examine the State and Action Spaces\n",
    "\n",
    "In this environment, two agents control rackets to bounce a ball over a net. If an agent hits the ball over the net, it receives a reward of +0.1.  If an agent lets a ball hit the ground or hits the ball out of bounds, it receives a reward of -0.01.  Thus, the goal of each agent is to keep the ball in play.\n",
    "\n",
    "The observation space consists of 8 variables corresponding to the position and velocity of the ball and racket. Two continuous actions are available, corresponding to movement toward (or away from) the net, and jumping. \n",
    "\n",
    "Run the code cell below to print some information about the environment."
   ]
  },
  {
   "cell_type": "code",
   "execution_count": 4,
   "metadata": {},
   "outputs": [
    {
     "name": "stdout",
     "output_type": "stream",
     "text": [
      "Number of agents: 2\n",
      "Size of each action: 2\n",
      "There are 2 agents. Each observes a state with length: 24\n",
      "(2, 24)\n",
      "The state for the first agent looks like: [ 0.          0.          0.          0.          0.          0.\n",
      "  0.          0.          0.          0.          0.          0.\n",
      "  0.          0.          0.          0.         -6.65278625 -1.5\n",
      " -0.          0.          6.83172083  6.         -0.          0.        ]\n"
     ]
    }
   ],
   "source": [
    "# reset the environment\n",
    "env_info = env.reset(train_mode=True)[brain_name]\n",
    "\n",
    "# number of agents \n",
    "num_agents = len(env_info.agents)\n",
    "print('Number of agents:', num_agents)\n",
    "\n",
    "# size of each action\n",
    "action_size = brain.vector_action_space_size\n",
    "print('Size of each action:', action_size)\n",
    "\n",
    "# examine the state space \n",
    "states = env_info.vector_observations\n",
    "state_size = states.shape[1]\n",
    "print('There are {} agents. Each observes a state with length: {}'.format(states.shape[0], state_size))\n",
    "print(states.shape)\n",
    "print('The state for the first agent looks like:', states[0])"
   ]
  },
  {
   "cell_type": "markdown",
   "metadata": {},
   "source": [
    "### 3. Take Random Actions in the Environment\n",
    "\n",
    "In the next code cell, you will learn how to use the Python API to control the agents and receive feedback from the environment.\n",
    "\n",
    "Once this cell is executed, you will watch the agents' performance, if they select actions at random with each time step.  A window should pop up that allows you to observe the agents.\n",
    "\n",
    "Of course, as part of the project, you'll have to change the code so that the agents are able to use their experiences to gradually choose better actions when interacting with the environment!"
   ]
  },
  {
   "cell_type": "code",
   "execution_count": 5,
   "metadata": {},
   "outputs": [
    {
     "name": "stdout",
     "output_type": "stream",
     "text": [
      "Score (max over agents) from 100 episodes : 0.01680000025779009\n"
     ]
    }
   ],
   "source": [
    "scores_all = []\n",
    "for i in range(1, 101):                                    # play game for 5 episodes\n",
    "    env_info = env.reset(train_mode=False)[brain_name]     # reset the environment    \n",
    "    states = env_info.vector_observations                  # get the current state (for each agent)\n",
    "    scores = np.zeros(num_agents)                          # initialize the score (for each agent)\n",
    "    while True:\n",
    "        actions = np.random.randn(num_agents, action_size) # select an action (for each agent). actions.shape = (2, 2)\n",
    "        actions = np.clip(actions, -1, 1)                  # all actions between -1 and 1\n",
    "        env_info = env.step(actions)[brain_name]           # send all actions to tne environment\n",
    "        next_states = env_info.vector_observations         # get next state (for each agent). next_states.shape = (2, 24)\n",
    "        rewards = env_info.rewards                         # get reward (for each agent). len(rewards) = 2\n",
    "        dones = env_info.local_done                        # see if episode finished. len(dones) = 2\n",
    "        scores += env_info.rewards                         # update the score (for each agent)\n",
    "        states = next_states                               # roll over states to next time step\n",
    "        if np.any(dones):                                  # exit loop if episode finished\n",
    "            break\n",
    "    scores_all.append(np.max(scores))\n",
    "print('Score (max over agents) from {} episodes : {}'.format(i, np.mean(np.array(scores_all))))"
   ]
  },
  {
   "cell_type": "markdown",
   "metadata": {},
   "source": [
    "When finished, you can close the environment."
   ]
  },
  {
   "cell_type": "code",
   "execution_count": 6,
   "metadata": {},
   "outputs": [],
   "source": [
    "env.close()"
   ]
  },
  {
   "cell_type": "markdown",
   "metadata": {},
   "source": [
    "### 4. It's Your Turn!\n",
    "\n",
    "Now it's your turn to train your own agent to solve the environment!  When training the environment, set `train_mode=True`, so that the line for resetting the environment looks like the following:\n",
    "```python\n",
    "env_info = env.reset(train_mode=True)[brain_name]\n",
    "```"
   ]
  },
  {
   "cell_type": "code",
   "execution_count": 5,
   "metadata": {},
   "outputs": [
    {
     "name": "stdout",
     "output_type": "stream",
     "text": [
      "Episode 100\tAverage Score: 0.0020\n",
      "Episode 200\tAverage Score: 0.0010\n",
      "Episode 300\tAverage Score: 0.0000\n",
      "Episode 400\tAverage Score: 0.0000\n",
      "Episode 500\tAverage Score: 0.0000\n",
      "Episode 600\tAverage Score: 0.0000\n",
      "Episode 700\tAverage Score: 0.0029\n",
      "Episode 800\tAverage Score: 0.0060\n",
      "Episode 900\tAverage Score: 0.0039\n",
      "Episode 1000\tAverage Score: 0.0060\n",
      "Episode 1100\tAverage Score: 0.0088\n",
      "Episode 1200\tAverage Score: 0.0000\n",
      "Episode 1300\tAverage Score: 0.0000\n",
      "Episode 1400\tAverage Score: 0.0000\n",
      "Episode 1500\tAverage Score: 0.0000\n",
      "Episode 1600\tAverage Score: 0.0127\n",
      "Episode 1700\tAverage Score: 0.0446\n",
      "Episode 1800\tAverage Score: 0.0393\n",
      "Episode 1900\tAverage Score: 0.0258\n",
      "Episode 2000\tAverage Score: 0.0490\n",
      "Episode 2100\tAverage Score: 0.0712\n",
      "Episode 2200\tAverage Score: 0.1069\n",
      "Episode 2300\tAverage Score: 0.1582\n",
      "Episode 2400\tAverage Score: 0.1696\n",
      "Episode 2500\tAverage Score: 0.1558\n",
      "Episode 2600\tAverage Score: 0.5965\n",
      "Episode 2700\tAverage Score: 1.3715\n",
      "Episode 2800\tAverage Score: 1.7357\n",
      "Episode 2900\tAverage Score: 1.9739\n",
      "Episode 3000\tAverage Score: 1.6738\n",
      "Episode 3100\tAverage Score: 1.6716\n",
      "Episode 3200\tAverage Score: 1.8197\n",
      "Episode 3300\tAverage Score: 1.7727\n",
      "Episode 3400\tAverage Score: 0.7431\n",
      "Episode 3500\tAverage Score: 1.7985\n",
      "Episode 3600\tAverage Score: 2.0719\n",
      "Episode 3700\tAverage Score: 1.7432\n",
      "Episode 3800\tAverage Score: 1.9207\n",
      "Episode 3900\tAverage Score: 2.2700\n",
      "Episode 4000\tAverage Score: 1.6073\n",
      "\n",
      "Environment solved in 2492 episodes!\tAverage Score: 2.5310\n"
     ]
    }
   ],
   "source": [
    "agent = Agent(state_size=state_size, action_size=action_size, random_seed=0)\n",
    "\n",
    "def ddpg(n_episodes=4000, max_t=1000, num_agents=2, eps_start=1.0, eps_end=0.01, eps_decay=0.995):\n",
    "    \"\"\"Deep Deterministic Policy Gradient (DDPG).\n",
    "    \n",
    "    Params\n",
    "    ======\n",
    "        n_episodes (int): maximum number of training episodes.\n",
    "        max_t (int): maximum number of timesteps per episode.\n",
    "        num_agents (int): Number of parallel agents for collecting experience. It can be 1 or 20.\n",
    "        eps_start (float): starting value of epsilon, for epsilon-greedy off-policy action selection.\n",
    "        eps_end (float): minimum value of epsilon.\n",
    "        eps_decay (float): multiplicative factor (per episode) for decreasing epsilon.\n",
    "    \"\"\"\n",
    "    scores_all = []                       # list containing scores from each episode\n",
    "    scores_window = deque(maxlen=100)     # last 100 scores\n",
    "    eps = eps_start                       # initialize epsilon\n",
    "    max_mean = -np.inf\n",
    "    i_episode_solved = 0\n",
    "    first_solve = True\n",
    "    for i_episode in range(1, n_episodes+1):\n",
    "        env_info = env.reset(train_mode=True)[brain_name] # reset the environment\n",
    "        states = env_info.vector_observations # get the current state (for each agent)\n",
    "        agent.reset()                         # reset Noise\n",
    "        scores_episode = np.zeros(num_agents) # initialize the score (for each agent)\n",
    "        for t in range(max_t):\n",
    "            actions = agent.act(states, eps, add_noise=True)  # select an action (for each agent)\n",
    "            env_info = env.step(actions)[brain_name]     # send all actions to tne environment\n",
    "            next_states = env_info.vector_observations   # get next state (for each agent)\n",
    "            rewards = env_info.rewards                   # get reward (for each agent)\n",
    "            dones = env_info.local_done                  # see if episode has finished (for each agent)\n",
    "            for state, action, reward, next_state, done in zip(states, actions, rewards, next_states, dones):\n",
    "                agent.step(state, action, reward, next_state, done, num_agents) \n",
    "            states = next_states                         # roll over states to next time step\n",
    "            scores_episode += rewards                    # update the score (for each agent)\n",
    "            if np.any(dones):                            # exit loop if episode finished\n",
    "                break \n",
    "        scores_window.append(np.max(scores_episode))\n",
    "        scores_all.append(np.max(scores_episode))\n",
    "        eps = max(eps_end, eps_decay*eps)                # decrease epsilon\n",
    "        print('\\rEpisode {}\\tAverage Score: {:.4f}'.format(i_episode, np.mean(scores_window)), end=\"\")\n",
    "        if i_episode % 100 == 0:\n",
    "            print('\\rEpisode {}\\tAverage Score: {:.4f}'.format(i_episode, np.mean(scores_window)))\n",
    "        \n",
    "        #Store the weights corresponding to the best mean score\n",
    "        curr_mean = np.mean(scores_window)\n",
    "        if ((curr_mean >= 0.5) and (curr_mean > max_mean)):\n",
    "            max_mean = curr_mean\n",
    "            if (first_solve == True):\n",
    "                first_solve = False\n",
    "                i_episode_solved = i_episode\n",
    "            #Save the best checkpoints\n",
    "            torch.save(agent.actor_local.state_dict(), 'checkpoints/checkpoint_actor_ddpg.pth')\n",
    "            torch.save(agent.critic_local.state_dict(), 'checkpoints/checkpoint_critic_ddpg.pth')\n",
    "            #break\n",
    "    print('\\nEnvironment solved in {:d} episodes!\\tAverage Score: {:.4f}'.format(i_episode_solved - 100, max_mean))\n",
    "    return scores_all\n",
    "\n",
    "scores = ddpg()\n",
    "env.close()"
   ]
  },
  {
   "cell_type": "code",
   "execution_count": 6,
   "metadata": {},
   "outputs": [
    {
     "data": {
      "image/png": "[encoded data removed]",
      "text/plain": [
       "<Figure size 432x288 with 1 Axes>"
      ]
     },
     "metadata": {
      "needs_background": "light"
     },
     "output_type": "display_data"
    }
   ],
   "source": [
    "# save the scores\n",
    "with open(\"scores_json/ddpg_scores\", \"w\") as fp:\n",
    "    json.dump(scores, fp)\n",
    "\n",
    "# Load the scores from json if needed\n",
    "#with open(\"scores_json/ddpg_scores\", \"r\") as fp:\n",
    "#    scores = json.load(fp)\n",
    "\n",
    "# Plot the scores\n",
    "i = 0\n",
    "window_size = 100\n",
    "# Initialize an empty list to store moving averages\n",
    "moving_averages = []\n",
    "\n",
    "zeroes_list = [0] * (window_size-1)\n",
    "new_scores = zeroes_list + scores\n",
    "\n",
    "# Loop through the array t o\n",
    "#consider every window of size 3\n",
    "while i < len(new_scores) - window_size + 1:\n",
    "  \n",
    "    # Calculate the average of current window\n",
    "    window_average = round(np.sum(new_scores[\n",
    "      i:i+window_size]) / window_size, 4)\n",
    "      \n",
    "    # Store the average of current\n",
    "    # window in moving average list\n",
    "    moving_averages.append(window_average)\n",
    "      \n",
    "    # Shift window to right by one position\n",
    "    i += 1\n",
    "\n",
    "fig = plt.figure()\n",
    "ax = fig.add_subplot(111)\n",
    "x_axis_values = np.arange(len(scores))\n",
    "plt.plot(x_axis_values, scores, label='scores')\n",
    "plt.plot(x_axis_values, moving_averages, label='moving average of 100')\n",
    "plt.ylabel('Score')\n",
    "plt.xlabel('Episode #')\n",
    "plt.legend()\n",
    "plt.show()\n",
    "fig.savefig(\"plots/training_plot_ddpg.pdf\", dpi=fig.dpi)\n",
    "fig.savefig(\"plots/training_plot_ddpg.jpg\", dpi=fig.dpi)"
   ]
  },
  {
   "cell_type": "markdown",
   "metadata": {},
   "source": [
    "### 5. Test the model"
   ]
  },
  {
   "cell_type": "code",
   "execution_count": 2,
   "metadata": {},
   "outputs": [
    {
     "name": "stderr",
     "output_type": "stream",
     "text": [
      "INFO:unityagents:\n",
      "'Academy' started successfully!\n",
      "Unity Academy name: Academy\n",
      "        Number of Brains: 1\n",
      "        Number of External Brains : 1\n",
      "        Lesson number : 0\n",
      "        Reset Parameters :\n",
      "\t\t\n",
      "Unity brain name: TennisBrain\n",
      "        Number of Visual Observations (per agent): 0\n",
      "        Vector Observation space type: continuous\n",
      "        Vector Observation space size (per agent): 8\n",
      "        Number of stacked Vector Observation: 3\n",
      "        Vector Action space type: continuous\n",
      "        Vector Action space size (per agent): 2\n",
      "        Vector Action descriptions: , \n"
     ]
    }
   ],
   "source": [
    "# Load the environment\n",
    "env = UnityEnvironment(file_name=\"Tennis_Windows_x86_64/Tennis.exe\")\n",
    "\n",
    "# get the default brain\n",
    "brain_name = env.brain_names[0]\n",
    "brain = env.brains[brain_name]"
   ]
  },
  {
   "cell_type": "code",
   "execution_count": 3,
   "metadata": {},
   "outputs": [
    {
     "name": "stdout",
     "output_type": "stream",
     "text": [
      "Total score (max of 2 agents) in Test: 2.600000038743019\n",
      "Total score for agent 0 in Test: 2.600000038743019\n",
      "Total score for agent 1 in Test: 2.600000038743019\n"
     ]
    }
   ],
   "source": [
    "env_info = env.reset(train_mode=False)[brain_name] # reset the environment for Test\n",
    "num_agents = len(env_info.agents)\n",
    "action_size = brain.vector_action_space_size\n",
    "state_size = env_info.vector_observations.shape[1]\n",
    "\n",
    "# Initialize an agent\n",
    "agent = Agent(state_size=state_size, action_size=action_size, random_seed=0)\n",
    "\n",
    "# load the weights from file\n",
    "agent.actor_local.load_state_dict(torch.load('checkpoints/checkpoint_actor_ddpg.pth'))\n",
    "agent.critic_local.load_state_dict(torch.load('checkpoints/checkpoint_critic_ddpg.pth'))\n",
    "\n",
    "states = env_info.vector_observations # get the current state (for each agent)\n",
    "scores_episode = np.zeros(num_agents) # initialize the score (for each agent)\n",
    "\n",
    "for t in range(10000):\n",
    "    actions = agent.act(states, eps=1, add_noise=False)  # select an action (for each agent)\n",
    "    env_info = env.step(actions)[brain_name]             # send all actions to tne environment\n",
    "    next_states = env_info.vector_observations           # get next state (for each agent)\n",
    "    rewards = env_info.rewards                           # get reward (for each agent)\n",
    "    dones = env_info.local_done                          # see if episode has finished (for each agent)\n",
    "    states = next_states                                 # roll over states to next time step\n",
    "    scores_episode += rewards                            # update the score (for each agent)\n",
    "    if np.any(dones):                                    # exit loop if episode finished\n",
    "        break \n",
    "\n",
    "print('Total score (max of {} agents) in Test: {}'.format(num_agents, np.max(scores_episode)))\n",
    "print('Total score for agent 0 in Test: {}'.format(scores_episode[0]))\n",
    "print('Total score for agent 1 in Test: {}'.format(scores_episode[1]))\n",
    "env.close()"
   ]
  }
 ],
 "metadata": {
  "kernelspec": {
   "display_name": "drlnd",
   "language": "python",
   "name": "drlnd"
  },
  "language_info": {
   "codemirror_mode": {
    "name": "ipython",
    "version": 3
   },
   "file_extension": ".py",
   "mimetype": "text/x-python",
   "name": "python",
   "nbconvert_exporter": "python",
   "pygments_lexer": "ipython3",
   "version": "3.6.15"
  }
 },
 "nbformat": 4,
 "nbformat_minor": 2
}
